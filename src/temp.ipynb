{
 "cells": [
  {
   "cell_type": "code",
   "execution_count": null,
   "metadata": {
    "collapsed": true
   },
   "outputs": [],
   "source": [
    "random_forest = GradientBoostingClassifier(n_estimators = 100, learning_rate=0.05)\n",
    "random_forest.fit(scale(X_train), y_train)\n",
    "\n",
    "more_features_test = pd.concat([test[['Age', 'Fare', 'Pclass', 'SibSp', 'Parch']], \n",
    "                                  pd.get_dummies(test[['Sex']]),\n",
    "                                  pd.get_dummies(test[['Embarked']])], axis=1)\n",
    "#more_features_test['Family_Size'] = test['SibSp'] + test['Parch'] + 1\n",
    "#more_features_test['Family_Size_Small'] = more_features_test['Family_Size'] <= 3\n",
    "more_features_test = more_features_test.fillna(medians)\n",
    "\n",
    "X_test =  more_features_test.values\n",
    "y_pred = random_forest.predict(scale(X_test))\n",
    "predction_dataframe = pd.DataFrame({ 'PassengerId':test['PassengerId'], 'Survived': y_pred })\n",
    "predction_dataframe.to_csv('./g_boosting.csv', index=False)"
   ]
  }
 ],
 "metadata": {
  "kernelspec": {
   "display_name": "Python 2",
   "language": "python",
   "name": "python2"
  },
  "language_info": {
   "codemirror_mode": {
    "name": "ipython",
    "version": 2
   },
   "file_extension": ".py",
   "mimetype": "text/x-python",
   "name": "python",
   "nbconvert_exporter": "python",
   "pygments_lexer": "ipython2",
   "version": "2.7.10"
  }
 },
 "nbformat": 4,
 "nbformat_minor": 0
}
